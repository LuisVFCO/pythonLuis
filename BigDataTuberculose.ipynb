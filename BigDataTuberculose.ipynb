{
  "nbformat": 4,
  "nbformat_minor": 0,
  "metadata": {
    "colab": {
      "provenance": [],
      "authorship_tag": "ABX9TyMGfNyf3q3u1pO94MQq9lHf",
      "include_colab_link": true
    },
    "kernelspec": {
      "name": "python3",
      "display_name": "Python 3"
    },
    "language_info": {
      "name": "python"
    }
  },
  "cells": [
    {
      "cell_type": "markdown",
      "metadata": {
        "id": "view-in-github",
        "colab_type": "text"
      },
      "source": [
        "<a href=\"https://colab.research.google.com/github/LuisVFCO/pythonLuis/blob/main/BigDataTuberculose.ipynb\" target=\"_parent\"><img src=\"https://colab.research.google.com/assets/colab-badge.svg\" alt=\"Open In Colab\"/></a>"
      ]
    },
    {
      "cell_type": "markdown",
      "source": [
        "Trabalho de Big Data - Entrega 01\n",
        "\n",
        "Descrição da Atividade:\n",
        "\n",
        "Vocês deverão escolher um dataset que contenha pelo menos 30.000 registros. Esta atividade consistirá em duas partes principais:\n",
        "\n",
        "1. Pesquisa e Detalhamento do Dataset:\n",
        "   - Seleção do Dataset: O grupo deve um dataset de interesse público ou de relevância para alguma área específica (saúde, educação, finanças, etc.). Justifiquem a escolha do dataset e expliquem como ele pode ser útil para solucionar problemas ou responder perguntas importantes.\n",
        "   - Análise Exploratória: Realizem uma análise exploratória inicial para entenderem as características básicas do dataset, como quantidade de registros, variáveis disponíveis e possíveis lacunas nos dados."
      ],
      "metadata": {
        "id": "PnIr_4JQc7bX"
      }
    },
    {
      "cell_type": "markdown",
      "source": [
        "Instalação do pysus. (biblioteca do Python que permite o download de diversas bases de dados públicas do DATASUS)"
      ],
      "metadata": {
        "id": "tsRjaE4scwyP"
      }
    },
    {
      "cell_type": "code",
      "execution_count": 1,
      "metadata": {
        "colab": {
          "base_uri": "https://localhost:8080/"
        },
        "id": "Dh-cMQEbPjzT",
        "outputId": "f7f5c323-0d60-42be-c239-1e2832e84f60"
      },
      "outputs": [
        {
          "output_type": "stream",
          "name": "stdout",
          "text": [
            "Requirement already satisfied: pysus in /usr/local/lib/python3.10/dist-packages (0.14.0)\n",
            "Requirement already satisfied: Unidecode<2.0.0,>=1.3.6 in /usr/local/lib/python3.10/dist-packages (from pysus) (1.3.8)\n",
            "Requirement already satisfied: aioftp<0.22.0,>=0.21.4 in /usr/local/lib/python3.10/dist-packages (from pysus) (0.21.4)\n",
            "Requirement already satisfied: bigtree<0.13.0,>=0.12.2 in /usr/local/lib/python3.10/dist-packages (from pysus) (0.12.5)\n",
            "Requirement already satisfied: cffi==1.15.1 in /usr/local/lib/python3.10/dist-packages (from pysus) (1.15.1)\n",
            "Requirement already satisfied: dateparser<2.0.0,>=1.1.8 in /usr/local/lib/python3.10/dist-packages (from pysus) (1.2.0)\n",
            "Requirement already satisfied: dbfread==2.0.7 in /usr/local/lib/python3.10/dist-packages (from pysus) (2.0.7)\n",
            "Requirement already satisfied: elasticsearch[preprocessing]==7.16.2 in /usr/local/lib/python3.10/dist-packages (from pysus) (7.16.2)\n",
            "Requirement already satisfied: fastparquet>=2023.10.1 in /usr/local/lib/python3.10/dist-packages (from pysus) (2024.2.0)\n",
            "Requirement already satisfied: humanize<5.0.0,>=4.8.0 in /usr/local/lib/python3.10/dist-packages (from pysus) (4.9.0)\n",
            "Requirement already satisfied: loguru<0.7.0,>=0.6.0 in /usr/local/lib/python3.10/dist-packages (from pysus) (0.6.0)\n",
            "Requirement already satisfied: numpy==1.26.2 in /usr/local/lib/python3.10/dist-packages (from pysus) (1.26.2)\n",
            "Requirement already satisfied: pandas>=2.1.0 in /usr/local/lib/python3.10/dist-packages (from pysus) (2.2.2)\n",
            "Requirement already satisfied: pyarrow>=11.0.0 in /usr/local/lib/python3.10/dist-packages (from pysus) (14.0.2)\n",
            "Requirement already satisfied: pycparser==2.21 in /usr/local/lib/python3.10/dist-packages (from pysus) (2.21)\n",
            "Requirement already satisfied: pyreaddbc>=1.1.0 in /usr/local/lib/python3.10/dist-packages (from pysus) (1.2.0)\n",
            "Requirement already satisfied: python-dateutil==2.8.2 in /usr/local/lib/python3.10/dist-packages (from pysus) (2.8.2)\n",
            "Requirement already satisfied: tqdm==4.64.0 in /usr/local/lib/python3.10/dist-packages (from pysus) (4.64.0)\n",
            "Requirement already satisfied: typing-extensions<5.0.0,>=4.9.0 in /usr/local/lib/python3.10/dist-packages (from pysus) (4.11.0)\n",
            "Requirement already satisfied: urwid<3.0.0,>=2.1.2 in /usr/local/lib/python3.10/dist-packages (from pysus) (2.6.10)\n",
            "Requirement already satisfied: wget<4.0,>=3.2 in /usr/local/lib/python3.10/dist-packages (from pysus) (3.2)\n",
            "\u001b[33mWARNING: elasticsearch 7.16.2 does not provide the extra 'preprocessing'\u001b[0m\u001b[33m\n",
            "\u001b[0mRequirement already satisfied: urllib3<2,>=1.21.1 in /usr/local/lib/python3.10/dist-packages (from elasticsearch[preprocessing]==7.16.2->pysus) (1.26.18)\n",
            "Requirement already satisfied: certifi in /usr/local/lib/python3.10/dist-packages (from elasticsearch[preprocessing]==7.16.2->pysus) (2024.2.2)\n",
            "Requirement already satisfied: six>=1.5 in /usr/local/lib/python3.10/dist-packages (from python-dateutil==2.8.2->pysus) (1.16.0)\n",
            "Requirement already satisfied: pytz in /usr/local/lib/python3.10/dist-packages (from dateparser<2.0.0,>=1.1.8->pysus) (2023.4)\n",
            "Requirement already satisfied: regex!=2019.02.19,!=2021.8.27 in /usr/local/lib/python3.10/dist-packages (from dateparser<2.0.0,>=1.1.8->pysus) (2023.12.25)\n",
            "Requirement already satisfied: tzlocal in /usr/local/lib/python3.10/dist-packages (from dateparser<2.0.0,>=1.1.8->pysus) (5.2)\n",
            "Requirement already satisfied: cramjam>=2.3 in /usr/local/lib/python3.10/dist-packages (from fastparquet>=2023.10.1->pysus) (2.8.3)\n",
            "Requirement already satisfied: fsspec in /usr/local/lib/python3.10/dist-packages (from fastparquet>=2023.10.1->pysus) (2023.6.0)\n",
            "Requirement already satisfied: packaging in /usr/local/lib/python3.10/dist-packages (from fastparquet>=2023.10.1->pysus) (24.0)\n",
            "Requirement already satisfied: tzdata>=2022.7 in /usr/local/lib/python3.10/dist-packages (from pandas>=2.1.0->pysus) (2024.1)\n",
            "Requirement already satisfied: pyyaml>=6 in /usr/local/lib/python3.10/dist-packages (from pyreaddbc>=1.1.0->pysus) (6.0.1)\n",
            "Requirement already satisfied: wcwidth in /usr/local/lib/python3.10/dist-packages (from urwid<3.0.0,>=2.1.2->pysus) (0.2.13)\n"
          ]
        }
      ],
      "source": [
        "pip install pysus"
      ]
    },
    {
      "cell_type": "markdown",
      "source": [
        "Importando SINAN, Pandas e listando as bases de dados de doenças disponíveis."
      ],
      "metadata": {
        "id": "1xJuy0VUdLtJ"
      }
    },
    {
      "cell_type": "code",
      "source": [
        "from pysus.online_data import SINAN"
      ],
      "metadata": {
        "id": "2Il9AQhe3gnq"
      },
      "execution_count": 2,
      "outputs": []
    },
    {
      "cell_type": "code",
      "source": [
        "import pandas as pd"
      ],
      "metadata": {
        "id": "QiroXzyO3pim"
      },
      "execution_count": 3,
      "outputs": []
    },
    {
      "cell_type": "code",
      "source": [
        "SINAN.list_diseases()"
      ],
      "metadata": {
        "colab": {
          "base_uri": "https://localhost:8080/"
        },
        "id": "unG7mjYH3ruE",
        "outputId": "ec19fbc6-ef18-43a9-a96e-2da6dd4c0cd5"
      },
      "execution_count": 5,
      "outputs": [
        {
          "output_type": "execute_result",
          "data": {
            "text/plain": [
              "{'ACBI': 'Acidente de trabalho com material biológico',\n",
              " 'ACGR': 'Acidente de trabalho',\n",
              " 'ANIM': 'Acidente por Animais Peçonhentos',\n",
              " 'ANTR': 'Atendimento Antirrabico',\n",
              " 'BOTU': 'Botulismo',\n",
              " 'CANC': 'Cancêr relacionado ao trabalho',\n",
              " 'CHAG': 'Doença de Chagas Aguda',\n",
              " 'CHIK': 'Febre de Chikungunya',\n",
              " 'COLE': 'Cólera',\n",
              " 'COQU': 'Coqueluche',\n",
              " 'DENG': 'Dengue',\n",
              " 'DERM': 'Dermatoses ocupacionais',\n",
              " 'DIFT': 'Difteria',\n",
              " 'ESQU': 'Esquistossomose',\n",
              " 'EXAN': 'Doença exantemáticas',\n",
              " 'FMAC': 'Febre Maculosa',\n",
              " 'FTIF': 'Febre Tifóide',\n",
              " 'HANS': 'Hanseníase',\n",
              " 'HANT': 'Hantavirose',\n",
              " 'HEPA': 'Hepatites Virais',\n",
              " 'IEXO': 'Intoxicação Exógena',\n",
              " 'INFL': 'Influenza Pandêmica',\n",
              " 'LEIV': 'Leishmaniose Visceral',\n",
              " 'LEPT': 'Leptospirose',\n",
              " 'LERD': 'LER/Dort',\n",
              " 'LTAN': 'Leishmaniose Tegumentar Americana',\n",
              " 'MALA': 'Malária',\n",
              " 'MENI': 'Meningite',\n",
              " 'MENT': 'Transtornos mentais relacionados ao trabalho',\n",
              " 'NTRA': 'Notificação de Tracoma',\n",
              " 'PAIR': 'Perda auditiva por ruído relacionado ao trabalho',\n",
              " 'PEST': 'Peste',\n",
              " 'PFAN': 'Paralisia Flácida Aguda',\n",
              " 'PNEU': 'Pneumoconioses realacionadas ao trabalho',\n",
              " 'RAIV': 'Raiva',\n",
              " 'SDTA': 'Surto Doenças Transmitidas por Alimentos',\n",
              " 'SIFA': 'Sífilis Adquirida',\n",
              " 'SIFC': 'Sífilis Congênita',\n",
              " 'SIFG': 'Sífilis em Gestante',\n",
              " 'SRC': 'Síndrome da Rubéola Congênia',\n",
              " 'TETA': 'Tétano Acidental',\n",
              " 'TETN': 'Tétano Neonatal',\n",
              " 'TOXC': 'Toxoplasmose Congênita',\n",
              " 'TOXG': 'Toxoplasmose Gestacional',\n",
              " 'TRAC': 'Inquérito de Tracoma',\n",
              " 'TUBE': 'Tuberculose',\n",
              " 'VARC': 'Varicela',\n",
              " 'VIOL': 'Violência doméstica, sexual e/ou outras violências',\n",
              " 'ZIKA': 'Zika Vírus'}"
            ]
          },
          "metadata": {},
          "execution_count": 5
        }
      ]
    },
    {
      "cell_type": "markdown",
      "source": [
        "Baixando a base de dados sobre tuberculose no ano de 2022"
      ],
      "metadata": {
        "id": "E2GlTKNldiSz"
      }
    },
    {
      "cell_type": "code",
      "source": [
        "SINAN.download('TUBE', years=2022)"
      ],
      "metadata": {
        "colab": {
          "base_uri": "https://localhost:8080/"
        },
        "id": "X9SJ22qU4Gix",
        "outputId": "948cf1e6-db73-45c0-e6ca-10d86dbdb5f2"
      },
      "execution_count": 6,
      "outputs": [
        {
          "output_type": "stream",
          "name": "stderr",
          "text": [
            "TUBEBR22.parquet: 100%|██████████| 187k/187k [00:16<00:00, 11.2kB/s]\n"
          ]
        },
        {
          "output_type": "execute_result",
          "data": {
            "text/plain": [
              "/root/pysus/TUBEBR22.parquet"
            ]
          },
          "metadata": {},
          "execution_count": 6
        }
      ]
    },
    {
      "cell_type": "markdown",
      "source": [
        "Carregando a base de dados."
      ],
      "metadata": {
        "id": "qaeQh4KZdz8d"
      }
    },
    {
      "cell_type": "code",
      "source": [
        "df_tube = pd.read_parquet('/root/pysus/TUBEBR22.parquet')"
      ],
      "metadata": {
        "id": "pHrGXPJu4V2C"
      },
      "execution_count": 7,
      "outputs": []
    },
    {
      "cell_type": "markdown",
      "source": [
        "Número de registros."
      ],
      "metadata": {
        "id": "uZXPni2-d6em"
      }
    },
    {
      "cell_type": "code",
      "source": [
        "len(df_tube)\n"
      ],
      "metadata": {
        "colab": {
          "base_uri": "https://localhost:8080/"
        },
        "id": "1GOP2ljf42a7",
        "outputId": "5801c7a4-e45f-4ffc-ea13-e8a201a011c1"
      },
      "execution_count": 8,
      "outputs": [
        {
          "output_type": "execute_result",
          "data": {
            "text/plain": [
              "103766"
            ]
          },
          "metadata": {},
          "execution_count": 8
        }
      ]
    },
    {
      "cell_type": "code",
      "source": [
        "df_tube.head()"
      ],
      "metadata": {
        "colab": {
          "base_uri": "https://localhost:8080/",
          "height": 256
        },
        "id": "hWHR2G2H4pn0",
        "outputId": "49397a27-61c9-4421-e9ba-73d545d3366b"
      },
      "execution_count": 9,
      "outputs": [
        {
          "output_type": "execute_result",
          "data": {
            "text/plain": [
              "  TP_NOT ID_AGRAVO DT_NOTIFIC NU_ANO SG_UF_NOT ID_MUNICIP ID_REGIONA  \\\n",
              "0      2      A169   20221003   2022        26     261160   1497       \n",
              "1      2      A169   20220404   2022        43     431490   1607       \n",
              "2      2      A169   20220404   2022        15     150550   1488       \n",
              "3      2      A169   20220404   2022        13     130260   5584       \n",
              "4      2      A169   20220404   2022        43     430510   1608       \n",
              "\n",
              "    DT_DIAG ANO_NASC NU_IDADE_N  ... BENEF_GOV AGRAVDROGA AGRAVTABAC  \\\n",
              "0  20220403     1971       4050  ...         2          2          2   \n",
              "1  20220404     1973       4048  ...         2          2          1   \n",
              "2  20220404     1946       4075  ...         2          2          2   \n",
              "3  20220404     1989       4032  ...         2          2          2   \n",
              "4  20220404     1940       4081  ...         2          2          1   \n",
              "\n",
              "  TEST_MOLEC TEST_SENSI ANT_RETRO BAC_APOS_6 TRANSF UF_TRANSF MUN_TRANSF  \n",
              "0          5                    2          4                              \n",
              "1          5          7         2          3                              \n",
              "2          5                                                              \n",
              "3          2                                                              \n",
              "4          5                                                              \n",
              "\n",
              "[5 rows x 97 columns]"
            ],
            "text/html": [
              "\n",
              "  <div id=\"df-1bdfa6e5-6c89-4f4f-b950-047d9f09cf25\" class=\"colab-df-container\">\n",
              "    <div>\n",
              "<style scoped>\n",
              "    .dataframe tbody tr th:only-of-type {\n",
              "        vertical-align: middle;\n",
              "    }\n",
              "\n",
              "    .dataframe tbody tr th {\n",
              "        vertical-align: top;\n",
              "    }\n",
              "\n",
              "    .dataframe thead th {\n",
              "        text-align: right;\n",
              "    }\n",
              "</style>\n",
              "<table border=\"1\" class=\"dataframe\">\n",
              "  <thead>\n",
              "    <tr style=\"text-align: right;\">\n",
              "      <th></th>\n",
              "      <th>TP_NOT</th>\n",
              "      <th>ID_AGRAVO</th>\n",
              "      <th>DT_NOTIFIC</th>\n",
              "      <th>NU_ANO</th>\n",
              "      <th>SG_UF_NOT</th>\n",
              "      <th>ID_MUNICIP</th>\n",
              "      <th>ID_REGIONA</th>\n",
              "      <th>DT_DIAG</th>\n",
              "      <th>ANO_NASC</th>\n",
              "      <th>NU_IDADE_N</th>\n",
              "      <th>...</th>\n",
              "      <th>BENEF_GOV</th>\n",
              "      <th>AGRAVDROGA</th>\n",
              "      <th>AGRAVTABAC</th>\n",
              "      <th>TEST_MOLEC</th>\n",
              "      <th>TEST_SENSI</th>\n",
              "      <th>ANT_RETRO</th>\n",
              "      <th>BAC_APOS_6</th>\n",
              "      <th>TRANSF</th>\n",
              "      <th>UF_TRANSF</th>\n",
              "      <th>MUN_TRANSF</th>\n",
              "    </tr>\n",
              "  </thead>\n",
              "  <tbody>\n",
              "    <tr>\n",
              "      <th>0</th>\n",
              "      <td>2</td>\n",
              "      <td>A169</td>\n",
              "      <td>20221003</td>\n",
              "      <td>2022</td>\n",
              "      <td>26</td>\n",
              "      <td>261160</td>\n",
              "      <td>1497</td>\n",
              "      <td>20220403</td>\n",
              "      <td>1971</td>\n",
              "      <td>4050</td>\n",
              "      <td>...</td>\n",
              "      <td>2</td>\n",
              "      <td>2</td>\n",
              "      <td>2</td>\n",
              "      <td>5</td>\n",
              "      <td></td>\n",
              "      <td>2</td>\n",
              "      <td>4</td>\n",
              "      <td></td>\n",
              "      <td></td>\n",
              "      <td></td>\n",
              "    </tr>\n",
              "    <tr>\n",
              "      <th>1</th>\n",
              "      <td>2</td>\n",
              "      <td>A169</td>\n",
              "      <td>20220404</td>\n",
              "      <td>2022</td>\n",
              "      <td>43</td>\n",
              "      <td>431490</td>\n",
              "      <td>1607</td>\n",
              "      <td>20220404</td>\n",
              "      <td>1973</td>\n",
              "      <td>4048</td>\n",
              "      <td>...</td>\n",
              "      <td>2</td>\n",
              "      <td>2</td>\n",
              "      <td>1</td>\n",
              "      <td>5</td>\n",
              "      <td>7</td>\n",
              "      <td>2</td>\n",
              "      <td>3</td>\n",
              "      <td></td>\n",
              "      <td></td>\n",
              "      <td></td>\n",
              "    </tr>\n",
              "    <tr>\n",
              "      <th>2</th>\n",
              "      <td>2</td>\n",
              "      <td>A169</td>\n",
              "      <td>20220404</td>\n",
              "      <td>2022</td>\n",
              "      <td>15</td>\n",
              "      <td>150550</td>\n",
              "      <td>1488</td>\n",
              "      <td>20220404</td>\n",
              "      <td>1946</td>\n",
              "      <td>4075</td>\n",
              "      <td>...</td>\n",
              "      <td>2</td>\n",
              "      <td>2</td>\n",
              "      <td>2</td>\n",
              "      <td>5</td>\n",
              "      <td></td>\n",
              "      <td></td>\n",
              "      <td></td>\n",
              "      <td></td>\n",
              "      <td></td>\n",
              "      <td></td>\n",
              "    </tr>\n",
              "    <tr>\n",
              "      <th>3</th>\n",
              "      <td>2</td>\n",
              "      <td>A169</td>\n",
              "      <td>20220404</td>\n",
              "      <td>2022</td>\n",
              "      <td>13</td>\n",
              "      <td>130260</td>\n",
              "      <td>5584</td>\n",
              "      <td>20220404</td>\n",
              "      <td>1989</td>\n",
              "      <td>4032</td>\n",
              "      <td>...</td>\n",
              "      <td>2</td>\n",
              "      <td>2</td>\n",
              "      <td>2</td>\n",
              "      <td>2</td>\n",
              "      <td></td>\n",
              "      <td></td>\n",
              "      <td></td>\n",
              "      <td></td>\n",
              "      <td></td>\n",
              "      <td></td>\n",
              "    </tr>\n",
              "    <tr>\n",
              "      <th>4</th>\n",
              "      <td>2</td>\n",
              "      <td>A169</td>\n",
              "      <td>20220404</td>\n",
              "      <td>2022</td>\n",
              "      <td>43</td>\n",
              "      <td>430510</td>\n",
              "      <td>1608</td>\n",
              "      <td>20220404</td>\n",
              "      <td>1940</td>\n",
              "      <td>4081</td>\n",
              "      <td>...</td>\n",
              "      <td>2</td>\n",
              "      <td>2</td>\n",
              "      <td>1</td>\n",
              "      <td>5</td>\n",
              "      <td></td>\n",
              "      <td></td>\n",
              "      <td></td>\n",
              "      <td></td>\n",
              "      <td></td>\n",
              "      <td></td>\n",
              "    </tr>\n",
              "  </tbody>\n",
              "</table>\n",
              "<p>5 rows × 97 columns</p>\n",
              "</div>\n",
              "    <div class=\"colab-df-buttons\">\n",
              "\n",
              "  <div class=\"colab-df-container\">\n",
              "    <button class=\"colab-df-convert\" onclick=\"convertToInteractive('df-1bdfa6e5-6c89-4f4f-b950-047d9f09cf25')\"\n",
              "            title=\"Convert this dataframe to an interactive table.\"\n",
              "            style=\"display:none;\">\n",
              "\n",
              "  <svg xmlns=\"http://www.w3.org/2000/svg\" height=\"24px\" viewBox=\"0 -960 960 960\">\n",
              "    <path d=\"M120-120v-720h720v720H120Zm60-500h600v-160H180v160Zm220 220h160v-160H400v160Zm0 220h160v-160H400v160ZM180-400h160v-160H180v160Zm440 0h160v-160H620v160ZM180-180h160v-160H180v160Zm440 0h160v-160H620v160Z\"/>\n",
              "  </svg>\n",
              "    </button>\n",
              "\n",
              "  <style>\n",
              "    .colab-df-container {\n",
              "      display:flex;\n",
              "      gap: 12px;\n",
              "    }\n",
              "\n",
              "    .colab-df-convert {\n",
              "      background-color: #E8F0FE;\n",
              "      border: none;\n",
              "      border-radius: 50%;\n",
              "      cursor: pointer;\n",
              "      display: none;\n",
              "      fill: #1967D2;\n",
              "      height: 32px;\n",
              "      padding: 0 0 0 0;\n",
              "      width: 32px;\n",
              "    }\n",
              "\n",
              "    .colab-df-convert:hover {\n",
              "      background-color: #E2EBFA;\n",
              "      box-shadow: 0px 1px 2px rgba(60, 64, 67, 0.3), 0px 1px 3px 1px rgba(60, 64, 67, 0.15);\n",
              "      fill: #174EA6;\n",
              "    }\n",
              "\n",
              "    .colab-df-buttons div {\n",
              "      margin-bottom: 4px;\n",
              "    }\n",
              "\n",
              "    [theme=dark] .colab-df-convert {\n",
              "      background-color: #3B4455;\n",
              "      fill: #D2E3FC;\n",
              "    }\n",
              "\n",
              "    [theme=dark] .colab-df-convert:hover {\n",
              "      background-color: #434B5C;\n",
              "      box-shadow: 0px 1px 3px 1px rgba(0, 0, 0, 0.15);\n",
              "      filter: drop-shadow(0px 1px 2px rgba(0, 0, 0, 0.3));\n",
              "      fill: #FFFFFF;\n",
              "    }\n",
              "  </style>\n",
              "\n",
              "    <script>\n",
              "      const buttonEl =\n",
              "        document.querySelector('#df-1bdfa6e5-6c89-4f4f-b950-047d9f09cf25 button.colab-df-convert');\n",
              "      buttonEl.style.display =\n",
              "        google.colab.kernel.accessAllowed ? 'block' : 'none';\n",
              "\n",
              "      async function convertToInteractive(key) {\n",
              "        const element = document.querySelector('#df-1bdfa6e5-6c89-4f4f-b950-047d9f09cf25');\n",
              "        const dataTable =\n",
              "          await google.colab.kernel.invokeFunction('convertToInteractive',\n",
              "                                                    [key], {});\n",
              "        if (!dataTable) return;\n",
              "\n",
              "        const docLinkHtml = 'Like what you see? Visit the ' +\n",
              "          '<a target=\"_blank\" href=https://colab.research.google.com/notebooks/data_table.ipynb>data table notebook</a>'\n",
              "          + ' to learn more about interactive tables.';\n",
              "        element.innerHTML = '';\n",
              "        dataTable['output_type'] = 'display_data';\n",
              "        await google.colab.output.renderOutput(dataTable, element);\n",
              "        const docLink = document.createElement('div');\n",
              "        docLink.innerHTML = docLinkHtml;\n",
              "        element.appendChild(docLink);\n",
              "      }\n",
              "    </script>\n",
              "  </div>\n",
              "\n",
              "\n",
              "<div id=\"df-5b0f0ee9-82a7-4355-abae-a40e4322350c\">\n",
              "  <button class=\"colab-df-quickchart\" onclick=\"quickchart('df-5b0f0ee9-82a7-4355-abae-a40e4322350c')\"\n",
              "            title=\"Suggest charts\"\n",
              "            style=\"display:none;\">\n",
              "\n",
              "<svg xmlns=\"http://www.w3.org/2000/svg\" height=\"24px\"viewBox=\"0 0 24 24\"\n",
              "     width=\"24px\">\n",
              "    <g>\n",
              "        <path d=\"M19 3H5c-1.1 0-2 .9-2 2v14c0 1.1.9 2 2 2h14c1.1 0 2-.9 2-2V5c0-1.1-.9-2-2-2zM9 17H7v-7h2v7zm4 0h-2V7h2v10zm4 0h-2v-4h2v4z\"/>\n",
              "    </g>\n",
              "</svg>\n",
              "  </button>\n",
              "\n",
              "<style>\n",
              "  .colab-df-quickchart {\n",
              "      --bg-color: #E8F0FE;\n",
              "      --fill-color: #1967D2;\n",
              "      --hover-bg-color: #E2EBFA;\n",
              "      --hover-fill-color: #174EA6;\n",
              "      --disabled-fill-color: #AAA;\n",
              "      --disabled-bg-color: #DDD;\n",
              "  }\n",
              "\n",
              "  [theme=dark] .colab-df-quickchart {\n",
              "      --bg-color: #3B4455;\n",
              "      --fill-color: #D2E3FC;\n",
              "      --hover-bg-color: #434B5C;\n",
              "      --hover-fill-color: #FFFFFF;\n",
              "      --disabled-bg-color: #3B4455;\n",
              "      --disabled-fill-color: #666;\n",
              "  }\n",
              "\n",
              "  .colab-df-quickchart {\n",
              "    background-color: var(--bg-color);\n",
              "    border: none;\n",
              "    border-radius: 50%;\n",
              "    cursor: pointer;\n",
              "    display: none;\n",
              "    fill: var(--fill-color);\n",
              "    height: 32px;\n",
              "    padding: 0;\n",
              "    width: 32px;\n",
              "  }\n",
              "\n",
              "  .colab-df-quickchart:hover {\n",
              "    background-color: var(--hover-bg-color);\n",
              "    box-shadow: 0 1px 2px rgba(60, 64, 67, 0.3), 0 1px 3px 1px rgba(60, 64, 67, 0.15);\n",
              "    fill: var(--button-hover-fill-color);\n",
              "  }\n",
              "\n",
              "  .colab-df-quickchart-complete:disabled,\n",
              "  .colab-df-quickchart-complete:disabled:hover {\n",
              "    background-color: var(--disabled-bg-color);\n",
              "    fill: var(--disabled-fill-color);\n",
              "    box-shadow: none;\n",
              "  }\n",
              "\n",
              "  .colab-df-spinner {\n",
              "    border: 2px solid var(--fill-color);\n",
              "    border-color: transparent;\n",
              "    border-bottom-color: var(--fill-color);\n",
              "    animation:\n",
              "      spin 1s steps(1) infinite;\n",
              "  }\n",
              "\n",
              "  @keyframes spin {\n",
              "    0% {\n",
              "      border-color: transparent;\n",
              "      border-bottom-color: var(--fill-color);\n",
              "      border-left-color: var(--fill-color);\n",
              "    }\n",
              "    20% {\n",
              "      border-color: transparent;\n",
              "      border-left-color: var(--fill-color);\n",
              "      border-top-color: var(--fill-color);\n",
              "    }\n",
              "    30% {\n",
              "      border-color: transparent;\n",
              "      border-left-color: var(--fill-color);\n",
              "      border-top-color: var(--fill-color);\n",
              "      border-right-color: var(--fill-color);\n",
              "    }\n",
              "    40% {\n",
              "      border-color: transparent;\n",
              "      border-right-color: var(--fill-color);\n",
              "      border-top-color: var(--fill-color);\n",
              "    }\n",
              "    60% {\n",
              "      border-color: transparent;\n",
              "      border-right-color: var(--fill-color);\n",
              "    }\n",
              "    80% {\n",
              "      border-color: transparent;\n",
              "      border-right-color: var(--fill-color);\n",
              "      border-bottom-color: var(--fill-color);\n",
              "    }\n",
              "    90% {\n",
              "      border-color: transparent;\n",
              "      border-bottom-color: var(--fill-color);\n",
              "    }\n",
              "  }\n",
              "</style>\n",
              "\n",
              "  <script>\n",
              "    async function quickchart(key) {\n",
              "      const quickchartButtonEl =\n",
              "        document.querySelector('#' + key + ' button');\n",
              "      quickchartButtonEl.disabled = true;  // To prevent multiple clicks.\n",
              "      quickchartButtonEl.classList.add('colab-df-spinner');\n",
              "      try {\n",
              "        const charts = await google.colab.kernel.invokeFunction(\n",
              "            'suggestCharts', [key], {});\n",
              "      } catch (error) {\n",
              "        console.error('Error during call to suggestCharts:', error);\n",
              "      }\n",
              "      quickchartButtonEl.classList.remove('colab-df-spinner');\n",
              "      quickchartButtonEl.classList.add('colab-df-quickchart-complete');\n",
              "    }\n",
              "    (() => {\n",
              "      let quickchartButtonEl =\n",
              "        document.querySelector('#df-5b0f0ee9-82a7-4355-abae-a40e4322350c button');\n",
              "      quickchartButtonEl.style.display =\n",
              "        google.colab.kernel.accessAllowed ? 'block' : 'none';\n",
              "    })();\n",
              "  </script>\n",
              "</div>\n",
              "\n",
              "    </div>\n",
              "  </div>\n"
            ],
            "application/vnd.google.colaboratory.intrinsic+json": {
              "type": "dataframe",
              "variable_name": "df_tube"
            }
          },
          "metadata": {},
          "execution_count": 9
        }
      ]
    },
    {
      "cell_type": "code",
      "source": [
        "print(df_tube.head())"
      ],
      "metadata": {
        "colab": {
          "base_uri": "https://localhost:8080/"
        },
        "id": "1JZmiu0J5N3U",
        "outputId": "52794959-4863-4fc6-eb46-e1bcad116d24"
      },
      "execution_count": 10,
      "outputs": [
        {
          "output_type": "stream",
          "name": "stdout",
          "text": [
            "  TP_NOT ID_AGRAVO DT_NOTIFIC NU_ANO SG_UF_NOT ID_MUNICIP ID_REGIONA  \\\n",
            "0      2      A169   20221003   2022        26     261160   1497       \n",
            "1      2      A169   20220404   2022        43     431490   1607       \n",
            "2      2      A169   20220404   2022        15     150550   1488       \n",
            "3      2      A169   20220404   2022        13     130260   5584       \n",
            "4      2      A169   20220404   2022        43     430510   1608       \n",
            "\n",
            "    DT_DIAG ANO_NASC NU_IDADE_N  ... BENEF_GOV AGRAVDROGA AGRAVTABAC  \\\n",
            "0  20220403     1971       4050  ...         2          2          2   \n",
            "1  20220404     1973       4048  ...         2          2          1   \n",
            "2  20220404     1946       4075  ...         2          2          2   \n",
            "3  20220404     1989       4032  ...         2          2          2   \n",
            "4  20220404     1940       4081  ...         2          2          1   \n",
            "\n",
            "  TEST_MOLEC TEST_SENSI ANT_RETRO BAC_APOS_6 TRANSF UF_TRANSF MUN_TRANSF  \n",
            "0          5                    2          4                              \n",
            "1          5          7         2          3                              \n",
            "2          5                                                              \n",
            "3          2                                                              \n",
            "4          5                                                              \n",
            "\n",
            "[5 rows x 97 columns]\n"
          ]
        }
      ]
    },
    {
      "cell_type": "markdown",
      "source": [
        "Verificando as informações."
      ],
      "metadata": {
        "id": "cHSAo1tZePFW"
      }
    },
    {
      "cell_type": "code",
      "source": [
        "df_tube.info()"
      ],
      "metadata": {
        "colab": {
          "base_uri": "https://localhost:8080/"
        },
        "id": "sbd7ycJl6C27",
        "outputId": "ea7d44d5-dd08-4ea6-d5d3-ec0a5e4d2d40"
      },
      "execution_count": 12,
      "outputs": [
        {
          "output_type": "stream",
          "name": "stdout",
          "text": [
            "<class 'pandas.core.frame.DataFrame'>\n",
            "RangeIndex: 103766 entries, 0 to 103765\n",
            "Data columns (total 97 columns):\n",
            " #   Column      Non-Null Count   Dtype \n",
            "---  ------      --------------   ----- \n",
            " 0   TP_NOT      103766 non-null  object\n",
            " 1   ID_AGRAVO   103766 non-null  object\n",
            " 2   DT_NOTIFIC  103766 non-null  object\n",
            " 3   NU_ANO      103766 non-null  object\n",
            " 4   SG_UF_NOT   103766 non-null  object\n",
            " 5   ID_MUNICIP  103766 non-null  object\n",
            " 6   ID_REGIONA  103766 non-null  object\n",
            " 7   DT_DIAG     103766 non-null  object\n",
            " 8   ANO_NASC    103766 non-null  object\n",
            " 9   NU_IDADE_N  103766 non-null  object\n",
            " 10  CS_SEXO     103766 non-null  object\n",
            " 11  CS_GESTANT  103766 non-null  object\n",
            " 12  CS_RACA     103766 non-null  object\n",
            " 13  CS_ESCOL_N  103766 non-null  object\n",
            " 14  SG_UF       103766 non-null  object\n",
            " 15  ID_MN_RESI  103766 non-null  object\n",
            " 16  ID_RG_RESI  103766 non-null  object\n",
            " 17  ID_PAIS     103766 non-null  object\n",
            " 18  NDUPLIC_N   103766 non-null  object\n",
            " 19  IN_VINCULA  103766 non-null  object\n",
            " 20  DT_DIGITA   103766 non-null  object\n",
            " 21  DT_TRANSUS  103766 non-null  object\n",
            " 22  DT_TRANSDM  103766 non-null  object\n",
            " 23  DT_TRANSSM  103766 non-null  object\n",
            " 24  DT_TRANSRM  103766 non-null  object\n",
            " 25  DT_TRANSRS  103766 non-null  object\n",
            " 26  DT_TRANSSE  103766 non-null  object\n",
            " 27  CS_FLXRET   103766 non-null  object\n",
            " 28  FLXRECEBI   103766 non-null  object\n",
            " 29  MIGRADO_W   103766 non-null  object\n",
            " 30  ID_OCUPA_N  103766 non-null  object\n",
            " 31  TRATAMENTO  103766 non-null  object\n",
            " 32  INSTITUCIO  103766 non-null  object\n",
            " 33  RAIOX_TORA  103766 non-null  object\n",
            " 34  TESTE_TUBE  103766 non-null  object\n",
            " 35  FORMA       103766 non-null  object\n",
            " 36  EXTRAPU1_N  103766 non-null  object\n",
            " 37  EXTRAPU2_N  103766 non-null  object\n",
            " 38  EXTRAPUL_O  103766 non-null  object\n",
            " 39  AGRAVAIDS   103766 non-null  object\n",
            " 40  AGRAVALCOO  103766 non-null  object\n",
            " 41  AGRAVDIABE  103766 non-null  object\n",
            " 42  AGRAVDOENC  103766 non-null  object\n",
            " 43  AGRAVOUTRA  103766 non-null  object\n",
            " 44  AGRAVOUTDE  103766 non-null  object\n",
            " 45  BACILOSC_E  103766 non-null  object\n",
            " 46  BACILOS_E2  103766 non-null  object\n",
            " 47  BACILOSC_O  103766 non-null  object\n",
            " 48  CULTURA_ES  103766 non-null  object\n",
            " 49  CULTURA_OU  103766 non-null  object\n",
            " 50  HIV         103766 non-null  object\n",
            " 51  HISTOPATOL  103766 non-null  object\n",
            " 52  DT_INIC_TR  103766 non-null  object\n",
            " 53  RIFAMPICIN  103766 non-null  object\n",
            " 54  ISONIAZIDA  103766 non-null  object\n",
            " 55  ETAMBUTOL   103766 non-null  object\n",
            " 56  ESTREPTOMI  103766 non-null  object\n",
            " 57  PIRAZINAMI  103766 non-null  object\n",
            " 58  ETIONAMIDA  103766 non-null  object\n",
            " 59  OUTRAS      103766 non-null  object\n",
            " 60  OUTRAS_DES  103766 non-null  object\n",
            " 61  TRAT_SUPER  103766 non-null  object\n",
            " 62  NU_CONTATO  103766 non-null  object\n",
            " 63  DOENCA_TRA  103766 non-null  object\n",
            " 64  SG_UF_AT    103766 non-null  object\n",
            " 65  ID_MUNIC_A  103766 non-null  object\n",
            " 66  DT_NOTI_AT  103766 non-null  object\n",
            " 67  SG_UF_2     103766 non-null  object\n",
            " 68  ID_MUNIC_2  103766 non-null  object\n",
            " 69  BACILOSC_1  103766 non-null  object\n",
            " 70  BACILOSC_2  103766 non-null  object\n",
            " 71  BACILOSC_3  103766 non-null  object\n",
            " 72  BACILOSC_4  103766 non-null  object\n",
            " 73  BACILOSC_5  103766 non-null  object\n",
            " 74  BACILOSC_6  103766 non-null  object\n",
            " 75  TRATSUP_AT  103766 non-null  object\n",
            " 76  DT_MUDANCA  103766 non-null  object\n",
            " 77  NU_COMU_EX  103766 non-null  object\n",
            " 78  SITUA_9_M   103766 non-null  object\n",
            " 79  SITUA_12_M  103766 non-null  object\n",
            " 80  SITUA_ENCE  103766 non-null  object\n",
            " 81  DT_ENCERRA  103766 non-null  object\n",
            " 82  TPUNINOT    103766 non-null  object\n",
            " 83  POP_LIBER   103766 non-null  object\n",
            " 84  POP_RUA     103766 non-null  object\n",
            " 85  POP_SAUDE   103766 non-null  object\n",
            " 86  POP_IMIG    103766 non-null  object\n",
            " 87  BENEF_GOV   103766 non-null  object\n",
            " 88  AGRAVDROGA  103766 non-null  object\n",
            " 89  AGRAVTABAC  103766 non-null  object\n",
            " 90  TEST_MOLEC  103766 non-null  object\n",
            " 91  TEST_SENSI  103766 non-null  object\n",
            " 92  ANT_RETRO   103766 non-null  object\n",
            " 93  BAC_APOS_6  103766 non-null  object\n",
            " 94  TRANSF      103766 non-null  object\n",
            " 95  UF_TRANSF   103766 non-null  object\n",
            " 96  MUN_TRANSF  103766 non-null  object\n",
            "dtypes: object(97)\n",
            "memory usage: 76.8+ MB\n"
          ]
        }
      ]
    },
    {
      "cell_type": "markdown",
      "source": [
        "Mostrar estatísticas das variáveis."
      ],
      "metadata": {
        "id": "jGhBFYgVeW6q"
      }
    },
    {
      "cell_type": "code",
      "source": [
        "print(df_tube.describe())\n"
      ],
      "metadata": {
        "colab": {
          "base_uri": "https://localhost:8080/"
        },
        "id": "Y9vkTfjM6mdq",
        "outputId": "0abd889e-3081-4145-a9dc-26c3f5f9a6a2"
      },
      "execution_count": 13,
      "outputs": [
        {
          "output_type": "stream",
          "name": "stdout",
          "text": [
            "        TP_NOT ID_AGRAVO DT_NOTIFIC  NU_ANO SG_UF_NOT ID_MUNICIP ID_REGIONA  \\\n",
            "count   103766    103766     103766  103766    103766     103766     103766   \n",
            "unique       1         2        583       2        27       3878        287   \n",
            "top          2      A169   20221212    2022        35     330455              \n",
            "freq    103766    101459        495   99955     22885       8811      40974   \n",
            "\n",
            "         DT_DIAG ANO_NASC NU_IDADE_N  ... BENEF_GOV AGRAVDROGA AGRAVTABAC  \\\n",
            "count     103766   103766     103766  ...    103766     103766     103766   \n",
            "unique       365      112        167  ...         6          4          4   \n",
            "top     20220420     1995       4026  ...         2          2          2   \n",
            "freq         486     2772       2832  ...     54022      77922      69203   \n",
            "\n",
            "       TEST_MOLEC TEST_SENSI ANT_RETRO BAC_APOS_6  TRANSF UF_TRANSF MUN_TRANSF  \n",
            "count      103766     103766    103766     103766  103766    103766     103766  \n",
            "unique          6         11         9         10       6        29         29  \n",
            "top             5                                                               \n",
            "freq        49609      49591     81111      76877   95257     98036      98592  \n",
            "\n",
            "[4 rows x 97 columns]\n"
          ]
        }
      ]
    },
    {
      "cell_type": "markdown",
      "source": [
        "Verificação de valores ausentes."
      ],
      "metadata": {
        "id": "UV0WKOw9emaD"
      }
    },
    {
      "cell_type": "code",
      "source": [
        "print(\"Valores ausentes por variável:\")\n",
        "print(df_tube.isnull().sum())"
      ],
      "metadata": {
        "colab": {
          "base_uri": "https://localhost:8080/"
        },
        "id": "ogVxSHU76rzu",
        "outputId": "0553417d-e000-46b9-e810-ae40c9d72a91"
      },
      "execution_count": 14,
      "outputs": [
        {
          "output_type": "stream",
          "name": "stdout",
          "text": [
            "Valores ausentes por variável:\n",
            "TP_NOT        0\n",
            "ID_AGRAVO     0\n",
            "DT_NOTIFIC    0\n",
            "NU_ANO        0\n",
            "SG_UF_NOT     0\n",
            "             ..\n",
            "ANT_RETRO     0\n",
            "BAC_APOS_6    0\n",
            "TRANSF        0\n",
            "UF_TRANSF     0\n",
            "MUN_TRANSF    0\n",
            "Length: 97, dtype: int64\n"
          ]
        }
      ]
    },
    {
      "cell_type": "markdown",
      "source": [
        "Variaveis presentes na base de dados."
      ],
      "metadata": {
        "id": "DmhOIWpQexn8"
      }
    },
    {
      "cell_type": "code",
      "source": [
        "print(df_tube.columns)"
      ],
      "metadata": {
        "colab": {
          "base_uri": "https://localhost:8080/"
        },
        "id": "LFqIZYYIXRrl",
        "outputId": "2a39fb20-ed53-438b-8183-0ec7ae87b8d3"
      },
      "execution_count": 18,
      "outputs": [
        {
          "output_type": "stream",
          "name": "stdout",
          "text": [
            "Index(['TP_NOT', 'ID_AGRAVO', 'DT_NOTIFIC', 'NU_ANO', 'SG_UF_NOT',\n",
            "       'ID_MUNICIP', 'ID_REGIONA', 'DT_DIAG', 'ANO_NASC', 'NU_IDADE_N',\n",
            "       'CS_SEXO', 'CS_GESTANT', 'CS_RACA', 'CS_ESCOL_N', 'SG_UF', 'ID_MN_RESI',\n",
            "       'ID_RG_RESI', 'ID_PAIS', 'NDUPLIC_N', 'IN_VINCULA', 'DT_DIGITA',\n",
            "       'DT_TRANSUS', 'DT_TRANSDM', 'DT_TRANSSM', 'DT_TRANSRM', 'DT_TRANSRS',\n",
            "       'DT_TRANSSE', 'CS_FLXRET', 'FLXRECEBI', 'MIGRADO_W', 'ID_OCUPA_N',\n",
            "       'TRATAMENTO', 'INSTITUCIO', 'RAIOX_TORA', 'TESTE_TUBE', 'FORMA',\n",
            "       'EXTRAPU1_N', 'EXTRAPU2_N', 'EXTRAPUL_O', 'AGRAVAIDS', 'AGRAVALCOO',\n",
            "       'AGRAVDIABE', 'AGRAVDOENC', 'AGRAVOUTRA', 'AGRAVOUTDE', 'BACILOSC_E',\n",
            "       'BACILOS_E2', 'BACILOSC_O', 'CULTURA_ES', 'CULTURA_OU', 'HIV',\n",
            "       'HISTOPATOL', 'DT_INIC_TR', 'RIFAMPICIN', 'ISONIAZIDA', 'ETAMBUTOL',\n",
            "       'ESTREPTOMI', 'PIRAZINAMI', 'ETIONAMIDA', 'OUTRAS', 'OUTRAS_DES',\n",
            "       'TRAT_SUPER', 'NU_CONTATO', 'DOENCA_TRA', 'SG_UF_AT', 'ID_MUNIC_A',\n",
            "       'DT_NOTI_AT', 'SG_UF_2', 'ID_MUNIC_2', 'BACILOSC_1', 'BACILOSC_2',\n",
            "       'BACILOSC_3', 'BACILOSC_4', 'BACILOSC_5', 'BACILOSC_6', 'TRATSUP_AT',\n",
            "       'DT_MUDANCA', 'NU_COMU_EX', 'SITUA_9_M', 'SITUA_12_M', 'SITUA_ENCE',\n",
            "       'DT_ENCERRA', 'TPUNINOT', 'POP_LIBER', 'POP_RUA', 'POP_SAUDE',\n",
            "       'POP_IMIG', 'BENEF_GOV', 'AGRAVDROGA', 'AGRAVTABAC', 'TEST_MOLEC',\n",
            "       'TEST_SENSI', 'ANT_RETRO', 'BAC_APOS_6', 'TRANSF', 'UF_TRANSF',\n",
            "       'MUN_TRANSF'],\n",
            "      dtype='object')\n"
          ]
        }
      ]
    }
  ]
}